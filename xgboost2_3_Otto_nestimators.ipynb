{
 "cells": [
  {
   "cell_type": "markdown",
   "metadata": {},
   "source": [
    "# XGBoost Parameter Tuning for Otto Dataset"
   ]
  },
  {
   "cell_type": "markdown",
   "metadata": {},
   "source": [
    "我们以Kaggle 2015年举办的Otto Group Product Classification Challenge竞赛数据为例，进行XGBoost参数调优探索。\n",
    "\n",
    "竞赛官网：https://www.kaggle.com/c/otto-group-product-classification-challenge/data"
   ]
  },
  {
   "cell_type": "markdown",
   "metadata": {},
   "source": [
    "首先 import 必要的模块"
   ]
  },
  {
   "cell_type": "code",
   "execution_count": 1,
   "metadata": {
    "collapsed": true
   },
   "outputs": [],
   "source": [
    "from xgboost import XGBClassifier\n",
    "import xgboost as xgb\n",
    "\n",
    "import pandas as pd \n",
    "import numpy as np\n",
    "\n",
    "from sklearn.model_selection import GridSearchCV\n",
    "from sklearn.model_selection import StratifiedKFold\n",
    "\n",
    "from sklearn.metrics import log_loss\n",
    "\n",
    "from matplotlib import pyplot\n",
    "import seaborn as sns\n",
    "%matplotlib inline"
   ]
  },
  {
   "cell_type": "markdown",
   "metadata": {},
   "source": [
    "## 读取数据"
   ]
  },
  {
   "cell_type": "code",
   "execution_count": 2,
   "metadata": {
    "scrolled": true
   },
   "outputs": [],
   "source": [
    "# path to where the data lies\n",
    "#dpath = '/Users/qing/desktop/XGBoost/data/'\n",
    "dpath = './data/'\n",
    "train = pd.read_csv(dpath +\"Otto_train.csv\")\n",
    "#train.head()"
   ]
  },
  {
   "cell_type": "markdown",
   "metadata": {},
   "source": [
    "## Variable Identification"
   ]
  },
  {
   "cell_type": "markdown",
   "metadata": {},
   "source": [
    "选择该数据集是因为的数据特征单一，我们可以在特征工程方面少做些工作，集中精力放在参数调优上"
   ]
  },
  {
   "cell_type": "markdown",
   "metadata": {},
   "source": [
    "## Target 分布，看看各类样本分布是否均衡"
   ]
  },
  {
   "cell_type": "code",
   "execution_count": 3,
   "metadata": {
    "scrolled": false
   },
   "outputs": [
    {
     "data": {
      "image/png": "[encoded data removed]",
      "text/plain": [
       "<matplotlib.figure.Figure at 0x1c3acad7cf8>"
      ]
     },
     "metadata": {},
     "output_type": "display_data"
    }
   ],
   "source": [
    "sns.countplot(train.target);\n",
    "pyplot.xlabel('target');\n",
    "pyplot.ylabel('Number of occurrences');"
   ]
  },
  {
   "cell_type": "markdown",
   "metadata": {},
   "source": [
    "每类样本分布不是很均匀，所以交叉验证时也考虑各类样本按比例抽取"
   ]
  },
  {
   "cell_type": "code",
   "execution_count": 4,
   "metadata": {},
   "outputs": [],
   "source": [
    "# drop ids and get labels\n",
    "y_train = train['target']\n",
    "y_train = y_train.map(lambda s: s[6:])\n",
    "y_train = y_train.map(lambda s: int(s)-1)\n",
    "\n",
    "train = train.drop([\"id\", \"target\"], axis=1)\n",
    "X_train = np.array(train)"
   ]
  },
  {
   "cell_type": "markdown",
   "metadata": {},
   "source": [
    "各类样本不均衡，交叉验证是采用StratifiedKFold，在每折采样时各类样本按比例采样"
   ]
  },
  {
   "cell_type": "code",
   "execution_count": 5,
   "metadata": {
    "collapsed": true
   },
   "outputs": [],
   "source": [
    "# prepare cross validation\n",
    "kfold = StratifiedKFold(n_splits=5, shuffle=True, random_state=3)"
   ]
  },
  {
   "cell_type": "markdown",
   "metadata": {},
   "source": [
    "再次调整弱分类器数目"
   ]
  },
  {
   "cell_type": "code",
   "execution_count": 9,
   "metadata": {},
   "outputs": [],
   "source": [
    "def modelfit(alg, X_train, y_train, useTrainCV=True, cv_folds=None, early_stopping_rounds=100):\n",
    "    \n",
    "    if useTrainCV:\n",
    "        xgb_param = alg.get_xgb_params()\n",
    "        xgb_param['num_class'] = 9\n",
    "        \n",
    "        xgtrain = xgb.DMatrix(X_train, label = y_train)\n",
    "        \n",
    "        cvresult = xgb.cv(xgb_param, xgtrain, num_boost_round=alg.get_params()['n_estimators'], folds =cv_folds,\n",
    "                         metrics='mlogloss', early_stopping_rounds=early_stopping_rounds)\n",
    "        \n",
    "        n_estimators = cvresult.shape[0]\n",
    "        alg.set_params(n_estimators = n_estimators)\n",
    "        \n",
    "        print (cvresult)\n",
    "        #result = pd.DataFrame(cvresult)   #cv缺省返回结果为DataFrame\n",
    "        #result.to_csv('my_preds.csv', index_label = 'n_estimators')\n",
    "        cvresult.to_csv('my_preds4_2_3_699.csv', index_label = 'n_estimators')\n",
    "        \n",
    "        # plot\n",
    "        test_means = cvresult['test-mlogloss-mean']\n",
    "        test_stds = cvresult['test-mlogloss-std'] \n",
    "        \n",
    "        train_means = cvresult['train-mlogloss-mean']\n",
    "        train_stds = cvresult['train-mlogloss-std'] \n",
    "\n",
    "        x_axis = range(0, n_estimators)\n",
    "        pyplot.errorbar(x_axis, test_means, yerr=test_stds ,label='Test')\n",
    "        pyplot.errorbar(x_axis, train_means, yerr=train_stds ,label='Train')\n",
    "        pyplot.title(\"XGBoost n_estimators vs Log Loss\")\n",
    "        pyplot.xlabel( 'n_estimators' )\n",
    "        pyplot.ylabel( 'Log Loss' )\n",
    "        pyplot.savefig( 'n_estimators4_2_3_699.png' )\n",
    "    \n",
    "    #Fit the algorithm on the data\n",
    "    alg.fit(X_train, y_train, eval_metric='mlogloss')\n",
    "        \n",
    "    #Predict training set:\n",
    "    train_predprob = alg.predict_proba(X_train)\n",
    "    logloss = log_loss(y_train, train_predprob)\n",
    "\n",
    "        \n",
    "    #Print model report:\n",
    "    print (\"logloss of train :\" )\n",
    "    print (logloss)"
   ]
  },
  {
   "cell_type": "code",
   "execution_count": 11,
   "metadata": {
    "scrolled": true
   },
   "outputs": [
    {
     "name": "stdout",
     "output_type": "stream",
     "text": [
      "     test-mlogloss-mean  test-mlogloss-std  train-mlogloss-mean  \\\n",
      "0              1.981900           0.003921             1.980191   \n",
      "1              1.828551           0.006834             1.824091   \n",
      "2              1.702342           0.005548             1.695820   \n",
      "3              1.598867           0.004097             1.590716   \n",
      "4              1.509088           0.002098             1.499366   \n",
      "5              1.435325           0.004776             1.424346   \n",
      "6              1.367974           0.006586             1.355910   \n",
      "7              1.307199           0.005783             1.293696   \n",
      "8              1.254733           0.004149             1.240258   \n",
      "9              1.207051           0.006282             1.191142   \n",
      "10             1.162685           0.005839             1.145702   \n",
      "11             1.122969           0.006096             1.104647   \n",
      "12             1.087529           0.006845             1.068161   \n",
      "13             1.054983           0.007786             1.034443   \n",
      "14             1.023596           0.006755             1.002250   \n",
      "15             0.995450           0.006937             0.973179   \n",
      "16             0.970129           0.007043             0.946795   \n",
      "17             0.946951           0.006928             0.922902   \n",
      "18             0.924463           0.007142             0.899438   \n",
      "19             0.904386           0.006713             0.878397   \n",
      "20             0.885490           0.006675             0.858529   \n",
      "21             0.868090           0.007226             0.840403   \n",
      "22             0.852000           0.007945             0.823436   \n",
      "23             0.836656           0.008072             0.807290   \n",
      "24             0.822660           0.008344             0.792421   \n",
      "25             0.809681           0.007501             0.778655   \n",
      "26             0.797498           0.007771             0.765642   \n",
      "27             0.785386           0.007934             0.752927   \n",
      "28             0.774699           0.007995             0.741358   \n",
      "29             0.764038           0.007474             0.730043   \n",
      "..                  ...                ...                  ...   \n",
      "522            0.483203           0.008071             0.257249   \n",
      "523            0.483212           0.008074             0.256941   \n",
      "524            0.483263           0.008121             0.256677   \n",
      "525            0.483172           0.008147             0.256447   \n",
      "526            0.483141           0.008139             0.256156   \n",
      "527            0.483130           0.008128             0.255898   \n",
      "528            0.483151           0.008097             0.255596   \n",
      "529            0.483104           0.008136             0.255334   \n",
      "530            0.483054           0.008065             0.255040   \n",
      "531            0.483006           0.008045             0.254804   \n",
      "532            0.482941           0.008028             0.254524   \n",
      "533            0.482896           0.008016             0.254208   \n",
      "534            0.482850           0.007928             0.253933   \n",
      "535            0.482805           0.007936             0.253710   \n",
      "536            0.482746           0.007898             0.253465   \n",
      "537            0.482689           0.007928             0.253227   \n",
      "538            0.482596           0.007963             0.252928   \n",
      "539            0.482625           0.007946             0.252702   \n",
      "540            0.482587           0.007920             0.252451   \n",
      "541            0.482545           0.007948             0.252200   \n",
      "542            0.482513           0.007933             0.251956   \n",
      "543            0.482487           0.007958             0.251690   \n",
      "544            0.482477           0.008030             0.251430   \n",
      "545            0.482373           0.007999             0.251129   \n",
      "546            0.482361           0.008067             0.250893   \n",
      "547            0.482329           0.008070             0.250618   \n",
      "548            0.482338           0.008082             0.250374   \n",
      "549            0.482284           0.008163             0.250103   \n",
      "550            0.482210           0.008188             0.249807   \n",
      "551            0.482206           0.008158             0.249539   \n",
      "\n",
      "     train-mlogloss-std  \n",
      "0              0.003940  \n",
      "1              0.005667  \n",
      "2              0.003797  \n",
      "3              0.001185  \n",
      "4              0.001880  \n",
      "5              0.002421  \n",
      "6              0.003399  \n",
      "7              0.002784  \n",
      "8              0.002732  \n",
      "9              0.002768  \n",
      "10             0.003054  \n",
      "11             0.003298  \n",
      "12             0.002811  \n",
      "13             0.003711  \n",
      "14             0.003477  \n",
      "15             0.003114  \n",
      "16             0.002326  \n",
      "17             0.002555  \n",
      "18             0.002263  \n",
      "19             0.002913  \n",
      "20             0.002576  \n",
      "21             0.002408  \n",
      "22             0.001959  \n",
      "23             0.001880  \n",
      "24             0.002053  \n",
      "25             0.002125  \n",
      "26             0.002203  \n",
      "27             0.001782  \n",
      "28             0.001939  \n",
      "29             0.002117  \n",
      "..                  ...  \n",
      "522            0.002232  \n",
      "523            0.002254  \n",
      "524            0.002224  \n",
      "525            0.002223  \n",
      "526            0.002180  \n",
      "527            0.002221  \n",
      "528            0.002190  \n",
      "529            0.002146  \n",
      "530            0.002121  \n",
      "531            0.002144  \n",
      "532            0.002136  \n",
      "533            0.002145  \n",
      "534            0.002160  \n",
      "535            0.002158  \n",
      "536            0.002146  \n",
      "537            0.002111  \n",
      "538            0.002140  \n",
      "539            0.002156  \n",
      "540            0.002168  \n",
      "541            0.002155  \n",
      "542            0.002163  \n",
      "543            0.002178  \n",
      "544            0.002151  \n",
      "545            0.002130  \n",
      "546            0.002125  \n",
      "547            0.002122  \n",
      "548            0.002128  \n",
      "549            0.002126  \n",
      "550            0.002088  \n",
      "551            0.002103  \n",
      "\n",
      "[552 rows x 4 columns]\n",
      "logloss of train :\n",
      "0.2755003806898022\n"
     ]
    },
    {
     "data": {
      "image/png": "[encoded data removed]",
      "text/plain": [
       "<matplotlib.figure.Figure at 0x1c3aeaa9518>"
      ]
     },
     "metadata": {},
     "output_type": "display_data"
    }
   ],
   "source": [
    "#调整max_depth和min_child_weight之后再次调整n_estimators(6,4)\n",
    "xgb2_3 = XGBClassifier(\n",
    "        learning_rate =0.1,\n",
    "        n_estimators=699,  #数值大没关系，cv会自动返回合适的n_estimators\n",
    "        max_depth=6,\n",
    "        min_child_weight=4,\n",
    "        gamma=0,\n",
    "        subsample=0.3,\n",
    "        colsample_bytree=0.8,\n",
    "        colsample_bylevel=0.7,\n",
    "        objective= 'multi:softprob',nthread=-1,\n",
    "        seed=3)\n",
    "\n",
    "modelfit(xgb2_3, X_train, y_train, cv_folds = kfold)\n",
    "#from sklearn.model_selection import cross_val_score\n",
    "#results = cross_val_score(xgb2_3, X_train, y_train, metrics='mlogloss', cv=kfold)\n",
    "#print results\n",
    "#print(\"CV logloss: %.2f%% (%.2f%%)\" % (results.mean()*100, results.std()*100))"
   ]
  },
  {
   "cell_type": "code",
   "execution_count": 12,
   "metadata": {},
   "outputs": [
    {
     "data": {
      "image/png": "[encoded data removed]",
      "text/plain": [
       "<matplotlib.figure.Figure at 0x1c3aed08ef0>"
      ]
     },
     "metadata": {},
     "output_type": "display_data"
    }
   ],
   "source": [
    "cvresult = pd.DataFrame.from_csv('my_preds4_2_3_699.csv')\n",
    "\n",
    "cvresult = cvresult.iloc[100:]\n",
    "# plot\n",
    "test_means = cvresult['test-mlogloss-mean']\n",
    "test_stds = cvresult['test-mlogloss-std'] \n",
    "        \n",
    "train_means = cvresult['train-mlogloss-mean']\n",
    "train_stds = cvresult['train-mlogloss-std'] \n",
    "\n",
    "x_axis = range(100,cvresult.shape[0]+100)\n",
    "        \n",
    "fig = pyplot.figure(figsize=(10, 10), dpi=100)\n",
    "pyplot.errorbar(x_axis, test_means, yerr=test_stds ,label='Test')\n",
    "pyplot.errorbar(x_axis, train_means, yerr=train_stds ,label='Train')\n",
    "pyplot.title(\"XGBoost n_estimators vs Log Loss\")\n",
    "pyplot.xlabel( 'n_estimators' )\n",
    "pyplot.ylabel( 'Log Loss' )\n",
    "pyplot.savefig( 'n_estimators_detail4_2_3_699.png' )\n",
    "\n",
    "pyplot.show()"
   ]
  },
  {
   "cell_type": "code",
   "execution_count": null,
   "metadata": {
    "collapsed": true
   },
   "outputs": [],
   "source": []
  }
 ],
 "metadata": {
  "kernelspec": {
   "display_name": "Python 3",
   "language": "python",
   "name": "python3"
  },
  "language_info": {
   "codemirror_mode": {
    "name": "ipython",
    "version": 3
   },
   "file_extension": ".py",
   "mimetype": "text/x-python",
   "name": "python",
   "nbconvert_exporter": "python",
   "pygments_lexer": "ipython3",
   "version": "3.6.3"
  }
 },
 "nbformat": 4,
 "nbformat_minor": 2
}
