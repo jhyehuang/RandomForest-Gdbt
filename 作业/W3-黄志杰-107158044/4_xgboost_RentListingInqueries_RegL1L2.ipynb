{
 "cells": [
  {
   "cell_type": "markdown",
   "metadata": {},
   "source": [
    "# XGBoost Parameter Tuning for Rent Listing Inqueries"
   ]
  },
  {
   "cell_type": "markdown",
   "metadata": {},
   "source": [
    "# 第五步：调整正则化参数：reg_alpha 和reg_lambda"
   ]
  },
  {
   "cell_type": "markdown",
   "metadata": {},
   "source": [
    "首先 import 必要的模块"
   ]
  },
  {
   "cell_type": "code",
   "execution_count": 10,
   "metadata": {
    "collapsed": true
   },
   "outputs": [],
   "source": [
    "from xgboost import XGBClassifier\n",
    "import xgboost as xgb\n",
    "\n",
    "import pandas as pd \n",
    "import numpy as np\n",
    "\n",
    "import math\n",
    "\n",
    "from sklearn.model_selection import GridSearchCV\n",
    "from sklearn.model_selection import StratifiedKFold\n",
    "\n",
    "from sklearn.metrics import log_loss\n",
    "\n",
    "from matplotlib import pyplot\n",
    "import seaborn as sns\n",
    "%matplotlib inline"
   ]
  },
  {
   "cell_type": "markdown",
   "metadata": {},
   "source": [
    "## 读取数据"
   ]
  },
  {
   "cell_type": "code",
   "execution_count": 11,
   "metadata": {
    "collapsed": true,
    "scrolled": true
   },
   "outputs": [],
   "source": [
    "# path to where the data lies\n",
    "dpath = './data/'\n",
    "train = pd.read_csv(dpath +\"RentListingInquries_FE_train.csv\")\n",
    "test = pd.read_csv(dpath +\"RentListingInquries_FE_test.csv\")"
   ]
  },
  {
   "cell_type": "code",
   "execution_count": 12,
   "metadata": {
    "collapsed": true
   },
   "outputs": [],
   "source": [
    "Y = train['interest_level']\n",
    "X = train.drop([\"interest_level\"], axis=1)\n",
    "X = np.array(X)"
   ]
  },
  {
   "cell_type": "code",
   "execution_count": 13,
   "metadata": {
    "collapsed": true,
    "scrolled": false
   },
   "outputs": [],
   "source": [
    "X_train=X\n",
    "y_train=Y"
   ]
  },
  {
   "cell_type": "code",
   "execution_count": 14,
   "metadata": {},
   "outputs": [
    {
     "data": {
      "text/plain": [
       "RangeIndex(start=0, stop=74659, step=1)"
      ]
     },
     "execution_count": 14,
     "metadata": {},
     "output_type": "execute_result"
    }
   ],
   "source": [
    "test.index"
   ]
  },
  {
   "cell_type": "markdown",
   "metadata": {},
   "source": [
    "各类样本不均衡，交叉验证是采用StratifiedKFold，在每折采样时各类样本按比例采样"
   ]
  },
  {
   "cell_type": "code",
   "execution_count": 15,
   "metadata": {
    "collapsed": true
   },
   "outputs": [],
   "source": [
    "# prepare cross validation\n",
    "kfold = StratifiedKFold(n_splits=5, shuffle=True, random_state=3)"
   ]
  },
  {
   "cell_type": "markdown",
   "metadata": {},
   "source": [
    "第二轮参数调整得到的n_estimators最优值（231），其余参数继续默认值"
   ]
  },
  {
   "cell_type": "markdown",
   "metadata": {},
   "source": [
    "用交叉验证评价模型性能时，用scoring参数定义评价指标。评价指标是越高越好，因此用一些损失函数当评价指标时，需要再加负号，如neg_log_loss，neg_mean_squared_error 详见sklearn文档：http://scikit-learn.org/stable/modules/model_evaluation.html#log-loss"
   ]
  },
  {
   "cell_type": "code",
   "execution_count": 16,
   "metadata": {
    "scrolled": true
   },
   "outputs": [
    {
     "data": {
      "text/plain": [
       "{'reg_alpha': [0.1, 1, 1.5, 2], 'reg_lambda': [0.1, 0.5, 1, 2]}"
      ]
     },
     "execution_count": 16,
     "metadata": {},
     "output_type": "execute_result"
    }
   ],
   "source": [
    "#reg_alpha = [1e-3, 1e-2, 0.05, 0.1]    #default = 0\n",
    "#reg_lambda = [1e-3, 1e-2, 0.05, 0.1]   #default = 1\n",
    "\n",
    "reg_alpha = [ 0.1,1,1.5, 2]    #default = 0, 测试0.1,1，1.5，2\n",
    "reg_lambda = [0.1,0.5, 1, 2]      #default = 1，测试0.1， 0.5， 1，2\n",
    "\n",
    "param_test = dict(reg_alpha=reg_alpha, reg_lambda=reg_lambda)\n",
    "param_test\n"
   ]
  },
  {
   "cell_type": "code",
   "execution_count": 17,
   "metadata": {
    "scrolled": true
   },
   "outputs": [
    {
     "name": "stderr",
     "output_type": "stream",
     "text": [
      "C:\\ProgramData\\Anaconda3\\lib\\site-packages\\sklearn\\model_selection\\_search.py:761: DeprecationWarning: The grid_scores_ attribute was deprecated in version 0.18 in favor of the more elaborate cv_results_ attribute. The grid_scores_ attribute will not be available from 0.20\n",
      "  DeprecationWarning)\n"
     ]
    },
    {
     "data": {
      "text/plain": [
       "([mean: -0.58191, std: 0.00280, params: {'reg_alpha': 0.1, 'reg_lambda': 0.1},\n",
       "  mean: -0.58170, std: 0.00242, params: {'reg_alpha': 0.1, 'reg_lambda': 0.5},\n",
       "  mean: -0.58248, std: 0.00319, params: {'reg_alpha': 0.1, 'reg_lambda': 1},\n",
       "  mean: -0.58211, std: 0.00357, params: {'reg_alpha': 0.1, 'reg_lambda': 2},\n",
       "  mean: -0.58200, std: 0.00258, params: {'reg_alpha': 1, 'reg_lambda': 0.1},\n",
       "  mean: -0.58248, std: 0.00253, params: {'reg_alpha': 1, 'reg_lambda': 0.5},\n",
       "  mean: -0.58216, std: 0.00271, params: {'reg_alpha': 1, 'reg_lambda': 1},\n",
       "  mean: -0.58218, std: 0.00270, params: {'reg_alpha': 1, 'reg_lambda': 2},\n",
       "  mean: -0.58199, std: 0.00271, params: {'reg_alpha': 1.5, 'reg_lambda': 0.1},\n",
       "  mean: -0.58246, std: 0.00294, params: {'reg_alpha': 1.5, 'reg_lambda': 0.5},\n",
       "  mean: -0.58226, std: 0.00274, params: {'reg_alpha': 1.5, 'reg_lambda': 1},\n",
       "  mean: -0.58245, std: 0.00281, params: {'reg_alpha': 1.5, 'reg_lambda': 2},\n",
       "  mean: -0.58182, std: 0.00281, params: {'reg_alpha': 2, 'reg_lambda': 0.1},\n",
       "  mean: -0.58229, std: 0.00312, params: {'reg_alpha': 2, 'reg_lambda': 0.5},\n",
       "  mean: -0.58202, std: 0.00315, params: {'reg_alpha': 2, 'reg_lambda': 1},\n",
       "  mean: -0.58224, std: 0.00269, params: {'reg_alpha': 2, 'reg_lambda': 2}],\n",
       " {'reg_alpha': 0.1, 'reg_lambda': 0.5},\n",
       " -0.5816986129388714)"
      ]
     },
     "execution_count": 17,
     "metadata": {},
     "output_type": "execute_result"
    }
   ],
   "source": [
    "xgb = XGBClassifier(\n",
    "        learning_rate =0.1,\n",
    "        n_estimators=231,  #第二轮参数调整得到的n_estimators最优值\n",
    "        max_depth=6,\n",
    "        min_child_weight=7,\n",
    "        gamma=0,\n",
    "        subsample=0.8,\n",
    "        colsample_bytree=0.8,\n",
    "        colsample_bylevel = 0.7,\n",
    "        objective= 'multi:softprob',\n",
    "        seed=3)\n",
    "\n",
    "\n",
    "gsearch = GridSearchCV(xgb, param_grid = param_test, scoring='neg_log_loss',n_jobs=-1,cv=kfold)\n",
    "gsearch.fit(X_train , y_train)\n",
    "\n",
    "gsearch.grid_scores_, gsearch.best_params_,     gsearch.best_score_"
   ]
  },
  {
   "cell_type": "code",
   "execution_count": 18,
   "metadata": {
    "scrolled": true
   },
   "outputs": [
    {
     "name": "stderr",
     "output_type": "stream",
     "text": [
      "C:\\ProgramData\\Anaconda3\\lib\\site-packages\\sklearn\\utils\\deprecation.py:122: FutureWarning: You are accessing a training score ('mean_train_score'), which will not be available by default any more in 0.21. If you need training scores, please set return_train_score=True\n",
      "  warnings.warn(*warn_args, **warn_kwargs)\n",
      "C:\\ProgramData\\Anaconda3\\lib\\site-packages\\sklearn\\utils\\deprecation.py:122: FutureWarning: You are accessing a training score ('split0_train_score'), which will not be available by default any more in 0.21. If you need training scores, please set return_train_score=True\n",
      "  warnings.warn(*warn_args, **warn_kwargs)\n",
      "C:\\ProgramData\\Anaconda3\\lib\\site-packages\\sklearn\\utils\\deprecation.py:122: FutureWarning: You are accessing a training score ('split1_train_score'), which will not be available by default any more in 0.21. If you need training scores, please set return_train_score=True\n",
      "  warnings.warn(*warn_args, **warn_kwargs)\n",
      "C:\\ProgramData\\Anaconda3\\lib\\site-packages\\sklearn\\utils\\deprecation.py:122: FutureWarning: You are accessing a training score ('split2_train_score'), which will not be available by default any more in 0.21. If you need training scores, please set return_train_score=True\n",
      "  warnings.warn(*warn_args, **warn_kwargs)\n",
      "C:\\ProgramData\\Anaconda3\\lib\\site-packages\\sklearn\\utils\\deprecation.py:122: FutureWarning: You are accessing a training score ('split3_train_score'), which will not be available by default any more in 0.21. If you need training scores, please set return_train_score=True\n",
      "  warnings.warn(*warn_args, **warn_kwargs)\n",
      "C:\\ProgramData\\Anaconda3\\lib\\site-packages\\sklearn\\utils\\deprecation.py:122: FutureWarning: You are accessing a training score ('split4_train_score'), which will not be available by default any more in 0.21. If you need training scores, please set return_train_score=True\n",
      "  warnings.warn(*warn_args, **warn_kwargs)\n",
      "C:\\ProgramData\\Anaconda3\\lib\\site-packages\\sklearn\\utils\\deprecation.py:122: FutureWarning: You are accessing a training score ('std_train_score'), which will not be available by default any more in 0.21. If you need training scores, please set return_train_score=True\n",
      "  warnings.warn(*warn_args, **warn_kwargs)\n"
     ]
    },
    {
     "data": {
      "text/plain": [
       "{'mean_fit_time': array([713.21799569, 712.63105869, 724.07543535, 712.9641994 ,\n",
       "        745.94316812, 724.36711216, 799.23339968, 752.36486874,\n",
       "        758.07573066, 715.13089142, 707.22645922, 692.20661044,\n",
       "        719.28764806, 695.6249959 , 695.22657075, 659.3462852 ]),\n",
       " 'mean_score_time': array([1.67966819, 1.70693941, 1.80008707, 1.66363235, 1.90496778,\n",
       "        1.9432682 , 1.87157707, 1.88571444, 1.7811377 , 1.74153118,\n",
       "        1.70252905, 1.66733689, 1.75236259, 1.67786369, 1.66893973,\n",
       "        1.37296162]),\n",
       " 'mean_test_score': array([-0.58190761, -0.58169861, -0.58248046, -0.5821079 , -0.58199914,\n",
       "        -0.5824808 , -0.58216425, -0.58217825, -0.58198617, -0.5824611 ,\n",
       "        -0.58225655, -0.58244979, -0.58182343, -0.58229297, -0.58201833,\n",
       "        -0.58224401]),\n",
       " 'mean_train_score': array([-0.47094293, -0.4718298 , -0.47330742, -0.47524097, -0.46880937,\n",
       "        -0.46992065, -0.47140778, -0.47422155, -0.46968332, -0.47073766,\n",
       "        -0.47236023, -0.47487827, -0.47140149, -0.47270282, -0.47385082,\n",
       "        -0.47617112]),\n",
       " 'param_reg_alpha': masked_array(data=[0.1, 0.1, 0.1, 0.1, 1, 1, 1, 1, 1.5, 1.5, 1.5, 1.5, 2,\n",
       "                    2, 2, 2],\n",
       "              mask=[False, False, False, False, False, False, False, False,\n",
       "                    False, False, False, False, False, False, False, False],\n",
       "        fill_value='?',\n",
       "             dtype=object),\n",
       " 'param_reg_lambda': masked_array(data=[0.1, 0.5, 1, 2, 0.1, 0.5, 1, 2, 0.1, 0.5, 1, 2, 0.1,\n",
       "                    0.5, 1, 2],\n",
       "              mask=[False, False, False, False, False, False, False, False,\n",
       "                    False, False, False, False, False, False, False, False],\n",
       "        fill_value='?',\n",
       "             dtype=object),\n",
       " 'params': [{'reg_alpha': 0.1, 'reg_lambda': 0.1},\n",
       "  {'reg_alpha': 0.1, 'reg_lambda': 0.5},\n",
       "  {'reg_alpha': 0.1, 'reg_lambda': 1},\n",
       "  {'reg_alpha': 0.1, 'reg_lambda': 2},\n",
       "  {'reg_alpha': 1, 'reg_lambda': 0.1},\n",
       "  {'reg_alpha': 1, 'reg_lambda': 0.5},\n",
       "  {'reg_alpha': 1, 'reg_lambda': 1},\n",
       "  {'reg_alpha': 1, 'reg_lambda': 2},\n",
       "  {'reg_alpha': 1.5, 'reg_lambda': 0.1},\n",
       "  {'reg_alpha': 1.5, 'reg_lambda': 0.5},\n",
       "  {'reg_alpha': 1.5, 'reg_lambda': 1},\n",
       "  {'reg_alpha': 1.5, 'reg_lambda': 2},\n",
       "  {'reg_alpha': 2, 'reg_lambda': 0.1},\n",
       "  {'reg_alpha': 2, 'reg_lambda': 0.5},\n",
       "  {'reg_alpha': 2, 'reg_lambda': 1},\n",
       "  {'reg_alpha': 2, 'reg_lambda': 2}],\n",
       " 'rank_test_score': array([ 3,  1, 15,  7,  5, 16,  8,  9,  4, 14, 11, 13,  2, 12,  6, 10]),\n",
       " 'split0_test_score': array([-0.57819562, -0.57868368, -0.57786414, -0.57753764, -0.5781869 ,\n",
       "        -0.57881373, -0.57847826, -0.57877953, -0.57800228, -0.578053  ,\n",
       "        -0.57814694, -0.5787212 , -0.57837747, -0.57752372, -0.57747948,\n",
       "        -0.57834537]),\n",
       " 'split0_train_score': array([-0.47289328, -0.47418638, -0.47580037, -0.4770333 , -0.47012291,\n",
       "        -0.47265506, -0.47369916, -0.47640852, -0.47108393, -0.47287291,\n",
       "        -0.4739974 , -0.47662692, -0.47239554, -0.47368854, -0.47492869,\n",
       "        -0.47708298]),\n",
       " 'split1_test_score': array([-0.5815596 , -0.58049342, -0.58183146, -0.58048792, -0.58115832,\n",
       "        -0.58206736, -0.58088502, -0.58065939, -0.5811965 , -0.581424  ,\n",
       "        -0.58210629, -0.58046677, -0.58041785, -0.58115066, -0.58062007,\n",
       "        -0.58093821]),\n",
       " 'split1_train_score': array([-0.46904842, -0.47021986, -0.47345185, -0.47373075, -0.46801711,\n",
       "        -0.46935191, -0.47026267, -0.47339194, -0.46861447, -0.47044178,\n",
       "        -0.47106996, -0.47411809, -0.47096663, -0.47177879, -0.47333763,\n",
       "        -0.47468153]),\n",
       " 'split2_test_score': array([-0.57972827, -0.58047349, -0.58103699, -0.57999195, -0.58088819,\n",
       "        -0.58114407, -0.58102337, -0.58117704, -0.58084514, -0.5815098 ,\n",
       "        -0.58082105, -0.58238886, -0.58048244, -0.58148933, -0.58130749,\n",
       "        -0.58148654]),\n",
       " 'split2_train_score': array([-0.47169403, -0.47129488, -0.47324695, -0.47611513, -0.46900767,\n",
       "        -0.46965867, -0.47130001, -0.47468754, -0.47083582, -0.47137347,\n",
       "        -0.4728946 , -0.47518052, -0.4715972 , -0.47377995, -0.47527334,\n",
       "        -0.47687366]),\n",
       " 'split3_test_score': array([-0.58425017, -0.58333967, -0.58432443, -0.58549717, -0.58453075,\n",
       "        -0.58421045, -0.58433509, -0.58371636, -0.58413144, -0.58483379,\n",
       "        -0.5840527 , -0.58376368, -0.58340166, -0.58483426, -0.58387871,\n",
       "        -0.58452113]),\n",
       " 'split3_train_score': array([-0.47175245, -0.47295032, -0.47264455, -0.47526097, -0.4687863 ,\n",
       "        -0.4696937 , -0.47175121, -0.4747968 , -0.47036921, -0.471243  ,\n",
       "        -0.47338864, -0.47586885, -0.47293998, -0.47260981, -0.47454307,\n",
       "        -0.47758287]),\n",
       " 'split4_test_score': array([-0.58580557, -0.58550396, -0.58734677, -0.58702631, -0.5852325 ,\n",
       "        -0.5861695 , -0.58610072, -0.58656027, -0.58575666, -0.58648615,\n",
       "        -0.58615697, -0.5869098 , -0.58643915, -0.58646812, -0.58680734,\n",
       "        -0.58592992]),\n",
       " 'split4_train_score': array([-0.46932647, -0.47049753, -0.47139337, -0.47406472, -0.46811289,\n",
       "        -0.46824392, -0.47002585, -0.47182295, -0.46751315, -0.46775716,\n",
       "        -0.47045055, -0.47259699, -0.46910808, -0.47165701, -0.47117136,\n",
       "        -0.47463455]),\n",
       " 'std_fit_time': array([23.70869063, 27.90103068, 29.21395986, 15.43778666, 12.7500396 ,\n",
       "         2.32407744, 55.71619863, 43.91786956, 10.90746282, 31.49635531,\n",
       "        20.59860113, 17.30080125, 20.82834329, 22.56290389, 23.25981363,\n",
       "         9.07371446]),\n",
       " 'std_score_time': array([0.03564146, 0.11777434, 0.14763726, 0.09827999, 0.11084615,\n",
       "        0.15664528, 0.25147579, 0.18151023, 0.06631747, 0.0826478 ,\n",
       "        0.07405751, 0.05447084, 0.07772317, 0.07140822, 0.07462596,\n",
       "        0.0769615 ]),\n",
       " 'std_test_score': array([0.0028046 , 0.0024172 , 0.00319037, 0.00356829, 0.00258213,\n",
       "        0.00252987, 0.00271037, 0.00269907, 0.00270605, 0.00294076,\n",
       "        0.0027353 , 0.00280901, 0.00280856, 0.00311718, 0.00314494,\n",
       "        0.00269249]),\n",
       " 'std_train_score': array([0.00149836, 0.00151407, 0.00143821, 0.00123623, 0.00075868,\n",
       "        0.00146506, 0.00131156, 0.00153443, 0.00138654, 0.00168463,\n",
       "        0.0013664 , 0.00140801, 0.00132983, 0.00090422, 0.00149047,\n",
       "        0.00125682])}"
      ]
     },
     "execution_count": 18,
     "metadata": {},
     "output_type": "execute_result"
    }
   ],
   "source": [
    "gsearch.cv_results_"
   ]
  },
  {
   "cell_type": "code",
   "execution_count": 19,
   "metadata": {
    "scrolled": false
   },
   "outputs": [
    {
     "name": "stderr",
     "output_type": "stream",
     "text": [
      "C:\\ProgramData\\Anaconda3\\lib\\site-packages\\sklearn\\utils\\deprecation.py:122: FutureWarning: You are accessing a training score ('mean_train_score'), which will not be available by default any more in 0.21. If you need training scores, please set return_train_score=True\n",
      "  warnings.warn(*warn_args, **warn_kwargs)\n",
      "C:\\ProgramData\\Anaconda3\\lib\\site-packages\\sklearn\\utils\\deprecation.py:122: FutureWarning: You are accessing a training score ('std_train_score'), which will not be available by default any more in 0.21. If you need training scores, please set return_train_score=True\n",
      "  warnings.warn(*warn_args, **warn_kwargs)\n",
      "C:\\ProgramData\\Anaconda3\\lib\\site-packages\\sklearn\\utils\\deprecation.py:122: FutureWarning: You are accessing a training score ('split0_train_score'), which will not be available by default any more in 0.21. If you need training scores, please set return_train_score=True\n",
      "  warnings.warn(*warn_args, **warn_kwargs)\n",
      "C:\\ProgramData\\Anaconda3\\lib\\site-packages\\sklearn\\utils\\deprecation.py:122: FutureWarning: You are accessing a training score ('split1_train_score'), which will not be available by default any more in 0.21. If you need training scores, please set return_train_score=True\n",
      "  warnings.warn(*warn_args, **warn_kwargs)\n",
      "C:\\ProgramData\\Anaconda3\\lib\\site-packages\\sklearn\\utils\\deprecation.py:122: FutureWarning: You are accessing a training score ('split2_train_score'), which will not be available by default any more in 0.21. If you need training scores, please set return_train_score=True\n",
      "  warnings.warn(*warn_args, **warn_kwargs)\n",
      "C:\\ProgramData\\Anaconda3\\lib\\site-packages\\sklearn\\utils\\deprecation.py:122: FutureWarning: You are accessing a training score ('split3_train_score'), which will not be available by default any more in 0.21. If you need training scores, please set return_train_score=True\n",
      "  warnings.warn(*warn_args, **warn_kwargs)\n",
      "C:\\ProgramData\\Anaconda3\\lib\\site-packages\\sklearn\\utils\\deprecation.py:122: FutureWarning: You are accessing a training score ('split4_train_score'), which will not be available by default any more in 0.21. If you need training scores, please set return_train_score=True\n",
      "  warnings.warn(*warn_args, **warn_kwargs)\n"
     ]
    },
    {
     "name": "stdout",
     "output_type": "stream",
     "text": [
      "Best: -0.581699 using {'reg_alpha': 0.1, 'reg_lambda': 0.5}\n"
     ]
    },
    {
     "data": {
      "image/png": "[encoded data removed]",
      "text/plain": [
       "<matplotlib.figure.Figure at 0x2824d42d128>"
      ]
     },
     "metadata": {},
     "output_type": "display_data"
    }
   ],
   "source": [
    "# summarize results\n",
    "print(\"Best: %f using %s\" % (gsearch.best_score_, gsearch.best_params_))\n",
    "test_means = gsearch.cv_results_[ 'mean_test_score' ]\n",
    "test_stds = gsearch.cv_results_[ 'std_test_score' ]\n",
    "train_means = gsearch.cv_results_[ 'mean_train_score' ]\n",
    "train_stds = gsearch.cv_results_[ 'std_train_score' ]\n",
    "\n",
    "pd.DataFrame(gsearch.cv_results_).to_csv('my_preds_reg_alpha_reg_lambda_1.csv')\n",
    "\n",
    "# plot results\n",
    "test_scores = np.array(test_means).reshape(len(reg_alpha), len(reg_lambda))\n",
    "train_scores = np.array(train_means).reshape(len(reg_alpha), len(reg_lambda))\n",
    "\n",
    "#log_reg_alpha = [0,0,0,0]\n",
    "#for index in range(len(reg_alpha)):\n",
    "#   log_reg_alpha[index] = math.log10(reg_alpha[index])\n",
    "    \n",
    "for i, value in enumerate(reg_alpha):\n",
    "    pyplot.plot(reg_lambda, -test_scores[i], label= 'reg_alpha:'   + str(value))\n",
    "#for i, value in enumerate(min_child_weight):\n",
    "#    pyplot.plot(max_depth, train_scores[i], label= 'train_min_child_weight:'   + str(value))\n",
    "    \n",
    "pyplot.legend()\n",
    "pyplot.xlabel( 'reg_alpha' )                                                                                                      \n",
    "pyplot.ylabel( '-Log Loss' )\n",
    "pyplot.savefig( 'reg_alpha_vs_reg_lambda1.png' )"
   ]
  },
  {
   "cell_type": "code",
   "execution_count": null,
   "metadata": {
    "collapsed": true
   },
   "outputs": [],
   "source": []
  }
 ],
 "metadata": {
  "kernelspec": {
   "display_name": "Python 3",
   "language": "python",
   "name": "python3"
  },
  "language_info": {
   "codemirror_mode": {
    "name": "ipython",
    "version": 3
   },
   "file_extension": ".py",
   "mimetype": "text/x-python",
   "name": "python",
   "nbconvert_exporter": "python",
   "pygments_lexer": "ipython3",
   "version": "3.6.3"
  }
 },
 "nbformat": 4,
 "nbformat_minor": 2
}
