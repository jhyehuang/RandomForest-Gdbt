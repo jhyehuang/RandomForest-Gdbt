{
 "cells": [
  {
   "cell_type": "markdown",
   "metadata": {},
   "source": [
    "# XGBoost Parameter Tuning for Rent Listing Inqueries"
   ]
  },
  {
   "cell_type": "markdown",
   "metadata": {},
   "source": [
    "# 第四步：调整树的参数：subsample 和 colsample_bytree\n",
    "(粗调，参数的步长为0.1；下一步是在粗调最佳参数周围，将步长降为0.05，进行精细调整)"
   ]
  },
  {
   "cell_type": "markdown",
   "metadata": {},
   "source": [
    "首先 import 必要的模块"
   ]
  },
  {
   "cell_type": "code",
   "execution_count": 1,
   "metadata": {
    "collapsed": true
   },
   "outputs": [],
   "source": [
    "from xgboost import XGBClassifier\n",
    "import xgboost as xgb\n",
    "\n",
    "import pandas as pd \n",
    "import numpy as np\n",
    "\n",
    "from sklearn.model_selection import GridSearchCV\n",
    "from sklearn.model_selection import StratifiedKFold\n",
    "\n",
    "from sklearn.metrics import log_loss\n",
    "\n",
    "from matplotlib import pyplot\n",
    "import seaborn as sns\n",
    "%matplotlib inline"
   ]
  },
  {
   "cell_type": "markdown",
   "metadata": {},
   "source": [
    "## 读取数据"
   ]
  },
  {
   "cell_type": "code",
   "execution_count": 2,
   "metadata": {
    "collapsed": true,
    "scrolled": true
   },
   "outputs": [],
   "source": [
    "# path to where the data lies\n",
    "dpath = './data/'\n",
    "train = pd.read_csv(dpath +\"RentListingInquries_FE_train.csv\")\n",
    "test = pd.read_csv(dpath +\"RentListingInquries_FE_test.csv\")"
   ]
  },
  {
   "cell_type": "markdown",
   "metadata": {},
   "source": [
    "每类样本分布不是很均匀，所以交叉验证时也考虑各类样本按比例抽取"
   ]
  },
  {
   "cell_type": "code",
   "execution_count": 3,
   "metadata": {
    "collapsed": true
   },
   "outputs": [],
   "source": [
    "Y = train['interest_level']\n",
    "X = train.drop([\"interest_level\"], axis=1)\n",
    "X = np.array(X)"
   ]
  },
  {
   "cell_type": "code",
   "execution_count": 4,
   "metadata": {
    "collapsed": true
   },
   "outputs": [],
   "source": [
    "X_train=X\n",
    "y_train=Y"
   ]
  },
  {
   "cell_type": "markdown",
   "metadata": {},
   "source": [
    "各类样本不均衡，交叉验证是采用StratifiedKFold，在每折采样时各类样本按比例采样"
   ]
  },
  {
   "cell_type": "code",
   "execution_count": 5,
   "metadata": {
    "collapsed": true
   },
   "outputs": [],
   "source": [
    "# prepare cross validation\n",
    "kfold = StratifiedKFold(n_splits=5, shuffle=True, random_state=3)"
   ]
  },
  {
   "cell_type": "markdown",
   "metadata": {},
   "source": [
    "第二轮参数调整得到的n_estimators最优值（231），其余参数继续默认值"
   ]
  },
  {
   "cell_type": "markdown",
   "metadata": {},
   "source": [
    "用交叉验证评价模型性能时，用scoring参数定义评价指标。评价指标是越高越好，因此用一些损失函数当评价指标时，需要再加负号，如neg_log_loss，neg_mean_squared_error 详见sklearn文档：http://scikit-learn.org/stable/modules/model_evaluation.html#log-loss"
   ]
  },
  {
   "cell_type": "code",
   "execution_count": 6,
   "metadata": {
    "scrolled": true
   },
   "outputs": [
    {
     "data": {
      "text/plain": [
       "{'colsample_bytree': [0.6, 0.7, 0.8, 0.9],\n",
       " 'subsample': [0.3, 0.4, 0.5, 0.6, 0.7, 0.8]}"
      ]
     },
     "execution_count": 6,
     "metadata": {},
     "output_type": "execute_result"
    }
   ],
   "source": [
    "#max_depth 建议3-10， min_child_weight=1／sqrt(ratio_rare_event) =5.5\n",
    "subsample = [i/10.0 for i in range(3,9)]\n",
    "colsample_bytree = [i/10.0 for i in range(6,10)]\n",
    "param_test = dict(subsample=subsample, colsample_bytree=colsample_bytree)\n",
    "param_test\n"
   ]
  },
  {
   "cell_type": "code",
   "execution_count": 7,
   "metadata": {
    "scrolled": true
   },
   "outputs": [
    {
     "name": "stderr",
     "output_type": "stream",
     "text": [
      "C:\\ProgramData\\Anaconda3\\lib\\site-packages\\sklearn\\model_selection\\_search.py:761: DeprecationWarning: The grid_scores_ attribute was deprecated in version 0.18 in favor of the more elaborate cv_results_ attribute. The grid_scores_ attribute will not be available from 0.20\n",
      "  DeprecationWarning)\n"
     ]
    },
    {
     "data": {
      "text/plain": [
       "([mean: -0.59064, std: 0.00445, params: {'colsample_bytree': 0.6, 'subsample': 0.3},\n",
       "  mean: -0.58690, std: 0.00383, params: {'colsample_bytree': 0.6, 'subsample': 0.4},\n",
       "  mean: -0.58572, std: 0.00302, params: {'colsample_bytree': 0.6, 'subsample': 0.5},\n",
       "  mean: -0.58398, std: 0.00406, params: {'colsample_bytree': 0.6, 'subsample': 0.6},\n",
       "  mean: -0.58333, std: 0.00360, params: {'colsample_bytree': 0.6, 'subsample': 0.7},\n",
       "  mean: -0.58232, std: 0.00334, params: {'colsample_bytree': 0.6, 'subsample': 0.8},\n",
       "  mean: -0.58968, std: 0.00321, params: {'colsample_bytree': 0.7, 'subsample': 0.3},\n",
       "  mean: -0.58655, std: 0.00392, params: {'colsample_bytree': 0.7, 'subsample': 0.4},\n",
       "  mean: -0.58459, std: 0.00288, params: {'colsample_bytree': 0.7, 'subsample': 0.5},\n",
       "  mean: -0.58378, std: 0.00317, params: {'colsample_bytree': 0.7, 'subsample': 0.6},\n",
       "  mean: -0.58249, std: 0.00351, params: {'colsample_bytree': 0.7, 'subsample': 0.7},\n",
       "  mean: -0.58253, std: 0.00337, params: {'colsample_bytree': 0.7, 'subsample': 0.8},\n",
       "  mean: -0.58918, std: 0.00355, params: {'colsample_bytree': 0.8, 'subsample': 0.3},\n",
       "  mean: -0.58739, std: 0.00356, params: {'colsample_bytree': 0.8, 'subsample': 0.4},\n",
       "  mean: -0.58500, std: 0.00358, params: {'colsample_bytree': 0.8, 'subsample': 0.5},\n",
       "  mean: -0.58331, std: 0.00369, params: {'colsample_bytree': 0.8, 'subsample': 0.6},\n",
       "  mean: -0.58282, std: 0.00332, params: {'colsample_bytree': 0.8, 'subsample': 0.7},\n",
       "  mean: -0.58222, std: 0.00338, params: {'colsample_bytree': 0.8, 'subsample': 0.8},\n",
       "  mean: -0.58990, std: 0.00247, params: {'colsample_bytree': 0.9, 'subsample': 0.3},\n",
       "  mean: -0.58682, std: 0.00351, params: {'colsample_bytree': 0.9, 'subsample': 0.4},\n",
       "  mean: -0.58506, std: 0.00373, params: {'colsample_bytree': 0.9, 'subsample': 0.5},\n",
       "  mean: -0.58348, std: 0.00358, params: {'colsample_bytree': 0.9, 'subsample': 0.6},\n",
       "  mean: -0.58285, std: 0.00370, params: {'colsample_bytree': 0.9, 'subsample': 0.7},\n",
       "  mean: -0.58287, std: 0.00339, params: {'colsample_bytree': 0.9, 'subsample': 0.8}],\n",
       " {'colsample_bytree': 0.8, 'subsample': 0.8},\n",
       " -0.582215264335301)"
      ]
     },
     "execution_count": 7,
     "metadata": {},
     "output_type": "execute_result"
    }
   ],
   "source": [
    "xgb = XGBClassifier(\n",
    "        learning_rate =0.1,\n",
    "        n_estimators=231,  #第二轮参数调整得到的n_estimators最优值\n",
    "        max_depth=6,\n",
    "        min_child_weight=7,\n",
    "        gamma=0,\n",
    "        subsample=0.3,\n",
    "        colsample_bytree=0.8,\n",
    "        colsample_bylevel = 0.7,\n",
    "        objective= 'multi:softprob',\n",
    "        seed=3)\n",
    "\n",
    "\n",
    "gsearch = GridSearchCV(xgb, param_grid = param_test, scoring='neg_log_loss',n_jobs=-1, cv=kfold)\n",
    "gsearch.fit(X_train , y_train)\n",
    "\n",
    "gsearch.grid_scores_, gsearch.best_params_,     gsearch.best_score_"
   ]
  },
  {
   "cell_type": "code",
   "execution_count": 8,
   "metadata": {
    "scrolled": true
   },
   "outputs": [
    {
     "name": "stderr",
     "output_type": "stream",
     "text": [
      "C:\\ProgramData\\Anaconda3\\lib\\site-packages\\sklearn\\utils\\deprecation.py:122: FutureWarning: You are accessing a training score ('mean_train_score'), which will not be available by default any more in 0.21. If you need training scores, please set return_train_score=True\n",
      "  warnings.warn(*warn_args, **warn_kwargs)\n",
      "C:\\ProgramData\\Anaconda3\\lib\\site-packages\\sklearn\\utils\\deprecation.py:122: FutureWarning: You are accessing a training score ('split0_train_score'), which will not be available by default any more in 0.21. If you need training scores, please set return_train_score=True\n",
      "  warnings.warn(*warn_args, **warn_kwargs)\n",
      "C:\\ProgramData\\Anaconda3\\lib\\site-packages\\sklearn\\utils\\deprecation.py:122: FutureWarning: You are accessing a training score ('split1_train_score'), which will not be available by default any more in 0.21. If you need training scores, please set return_train_score=True\n",
      "  warnings.warn(*warn_args, **warn_kwargs)\n",
      "C:\\ProgramData\\Anaconda3\\lib\\site-packages\\sklearn\\utils\\deprecation.py:122: FutureWarning: You are accessing a training score ('split2_train_score'), which will not be available by default any more in 0.21. If you need training scores, please set return_train_score=True\n",
      "  warnings.warn(*warn_args, **warn_kwargs)\n",
      "C:\\ProgramData\\Anaconda3\\lib\\site-packages\\sklearn\\utils\\deprecation.py:122: FutureWarning: You are accessing a training score ('split3_train_score'), which will not be available by default any more in 0.21. If you need training scores, please set return_train_score=True\n",
      "  warnings.warn(*warn_args, **warn_kwargs)\n",
      "C:\\ProgramData\\Anaconda3\\lib\\site-packages\\sklearn\\utils\\deprecation.py:122: FutureWarning: You are accessing a training score ('split4_train_score'), which will not be available by default any more in 0.21. If you need training scores, please set return_train_score=True\n",
      "  warnings.warn(*warn_args, **warn_kwargs)\n",
      "C:\\ProgramData\\Anaconda3\\lib\\site-packages\\sklearn\\utils\\deprecation.py:122: FutureWarning: You are accessing a training score ('std_train_score'), which will not be available by default any more in 0.21. If you need training scores, please set return_train_score=True\n",
      "  warnings.warn(*warn_args, **warn_kwargs)\n"
     ]
    },
    {
     "data": {
      "text/plain": [
       "{'mean_fit_time': array([463.40162086, 519.93637605, 548.90441184, 549.04791656,\n",
       "        544.16693649, 542.07845874, 500.23749046, 564.883605  ,\n",
       "        613.08328323, 618.61419163, 602.2831625 , 603.83248243,\n",
       "        536.21827469, 611.8342618 , 655.39851294, 668.03040552,\n",
       "        704.63730764, 719.40717397, 654.97615571, 771.60058889,\n",
       "        843.76334224, 858.75795197, 801.54592843, 737.28439298]),\n",
       " 'mean_score_time': array([1.69560924, 1.58712087, 1.49276915, 1.51743536, 1.50409989,\n",
       "        1.57198086, 1.53718781, 1.60125842, 1.60075674, 1.57358494,\n",
       "        1.53097134, 1.51733532, 1.51502895, 1.53036985, 1.49096513,\n",
       "        1.50440035, 1.7098485 , 1.76108341, 1.78905754, 1.66703329,\n",
       "        1.76680017, 1.77963238, 1.57839699, 1.33056364]),\n",
       " 'mean_test_score': array([-0.590636  , -0.58689878, -0.58571554, -0.58397666, -0.58333296,\n",
       "        -0.58232358, -0.58968373, -0.58654747, -0.58459206, -0.58377891,\n",
       "        -0.58248967, -0.58253221, -0.58917554, -0.58739412, -0.58500258,\n",
       "        -0.58330981, -0.58282436, -0.58221526, -0.58990023, -0.58682117,\n",
       "        -0.58506043, -0.58348288, -0.58285086, -0.58287236]),\n",
       " 'mean_train_score': array([-0.49500378, -0.48850141, -0.48407512, -0.48057202, -0.47820321,\n",
       "        -0.47835269, -0.49127872, -0.48415721, -0.48037568, -0.47743397,\n",
       "        -0.476     , -0.47544194, -0.48828025, -0.48183179, -0.47762693,\n",
       "        -0.47441806, -0.47293732, -0.47367962, -0.4854159 , -0.47926709,\n",
       "        -0.47547807, -0.47219807, -0.47073577, -0.47197273]),\n",
       " 'param_colsample_bytree': masked_array(data=[0.6, 0.6, 0.6, 0.6, 0.6, 0.6, 0.7, 0.7, 0.7, 0.7, 0.7,\n",
       "                    0.7, 0.8, 0.8, 0.8, 0.8, 0.8, 0.8, 0.9, 0.9, 0.9, 0.9,\n",
       "                    0.9, 0.9],\n",
       "              mask=[False, False, False, False, False, False, False, False,\n",
       "                    False, False, False, False, False, False, False, False,\n",
       "                    False, False, False, False, False, False, False, False],\n",
       "        fill_value='?',\n",
       "             dtype=object),\n",
       " 'param_subsample': masked_array(data=[0.3, 0.4, 0.5, 0.6, 0.7, 0.8, 0.3, 0.4, 0.5, 0.6, 0.7,\n",
       "                    0.8, 0.3, 0.4, 0.5, 0.6, 0.7, 0.8, 0.3, 0.4, 0.5, 0.6,\n",
       "                    0.7, 0.8],\n",
       "              mask=[False, False, False, False, False, False, False, False,\n",
       "                    False, False, False, False, False, False, False, False,\n",
       "                    False, False, False, False, False, False, False, False],\n",
       "        fill_value='?',\n",
       "             dtype=object),\n",
       " 'params': [{'colsample_bytree': 0.6, 'subsample': 0.3},\n",
       "  {'colsample_bytree': 0.6, 'subsample': 0.4},\n",
       "  {'colsample_bytree': 0.6, 'subsample': 0.5},\n",
       "  {'colsample_bytree': 0.6, 'subsample': 0.6},\n",
       "  {'colsample_bytree': 0.6, 'subsample': 0.7},\n",
       "  {'colsample_bytree': 0.6, 'subsample': 0.8},\n",
       "  {'colsample_bytree': 0.7, 'subsample': 0.3},\n",
       "  {'colsample_bytree': 0.7, 'subsample': 0.4},\n",
       "  {'colsample_bytree': 0.7, 'subsample': 0.5},\n",
       "  {'colsample_bytree': 0.7, 'subsample': 0.6},\n",
       "  {'colsample_bytree': 0.7, 'subsample': 0.7},\n",
       "  {'colsample_bytree': 0.7, 'subsample': 0.8},\n",
       "  {'colsample_bytree': 0.8, 'subsample': 0.3},\n",
       "  {'colsample_bytree': 0.8, 'subsample': 0.4},\n",
       "  {'colsample_bytree': 0.8, 'subsample': 0.5},\n",
       "  {'colsample_bytree': 0.8, 'subsample': 0.6},\n",
       "  {'colsample_bytree': 0.8, 'subsample': 0.7},\n",
       "  {'colsample_bytree': 0.8, 'subsample': 0.8},\n",
       "  {'colsample_bytree': 0.9, 'subsample': 0.3},\n",
       "  {'colsample_bytree': 0.9, 'subsample': 0.4},\n",
       "  {'colsample_bytree': 0.9, 'subsample': 0.5},\n",
       "  {'colsample_bytree': 0.9, 'subsample': 0.6},\n",
       "  {'colsample_bytree': 0.9, 'subsample': 0.7},\n",
       "  {'colsample_bytree': 0.9, 'subsample': 0.8}],\n",
       " 'rank_test_score': array([24, 19, 16, 12,  9,  2, 22, 17, 13, 11,  3,  4, 21, 20, 14,  8,  5,\n",
       "         1, 23, 18, 15, 10,  6,  7]),\n",
       " 'split0_test_score': array([-0.58418045, -0.58076592, -0.58096554, -0.57855021, -0.57705993,\n",
       "        -0.57770549, -0.58610162, -0.58096821, -0.58026816, -0.57997272,\n",
       "        -0.57692305, -0.57781143, -0.58395419, -0.58270368, -0.5815984 ,\n",
       "        -0.57879073, -0.57864135, -0.57742299, -0.58514752, -0.58101189,\n",
       "        -0.57908971, -0.57719565, -0.57739255, -0.57822159]),\n",
       " 'split0_train_score': array([-0.49684186, -0.49011024, -0.48661614, -0.4815401 , -0.47923458,\n",
       "        -0.47790048, -0.49292673, -0.48577067, -0.48110417, -0.47778843,\n",
       "        -0.47575086, -0.4767895 , -0.48932325, -0.48376354, -0.47937676,\n",
       "        -0.47582316, -0.47397153, -0.47521484, -0.48941395, -0.4818829 ,\n",
       "        -0.4772018 , -0.4725154 , -0.47031358, -0.47324339]),\n",
       " 'split1_test_score': array([-0.58836026, -0.58575335, -0.58459019, -0.58173767, -0.58262676,\n",
       "        -0.57993717, -0.58887786, -0.58505308, -0.58403953, -0.58147534,\n",
       "        -0.58098483, -0.5815244 , -0.58745944, -0.58581167, -0.58143867,\n",
       "        -0.58146027, -0.58145694, -0.58150392, -0.5907036 , -0.58694961,\n",
       "        -0.58459358, -0.58310287, -0.58068052, -0.58166524]),\n",
       " 'split1_train_score': array([-0.4931447 , -0.48720705, -0.48316686, -0.47986561, -0.47874425,\n",
       "        -0.47840172, -0.49029469, -0.48269536, -0.47919556, -0.47601363,\n",
       "        -0.4763186 , -0.4748452 , -0.48735406, -0.48208669, -0.47918189,\n",
       "        -0.47423517, -0.47318646, -0.4725949 , -0.48472839, -0.47917926,\n",
       "        -0.4767141 , -0.47432015, -0.47304337, -0.47310627]),\n",
       " 'split2_test_score': array([-0.58980927, -0.58624686, -0.58511467, -0.5825744 , -0.58354009,\n",
       "        -0.58182626, -0.58764897, -0.58511132, -0.58343582, -0.58263437,\n",
       "        -0.58254179, -0.58085295, -0.58830162, -0.58560664, -0.58346246,\n",
       "        -0.58097189, -0.58059405, -0.58041309, -0.59060241, -0.58560468,\n",
       "        -0.58390791, -0.58316306, -0.58254748, -0.58151357]),\n",
       " 'split2_train_score': array([-0.49607674, -0.48883978, -0.48382617, -0.48228681, -0.47848466,\n",
       "        -0.47796638, -0.49252048, -0.48348342, -0.48106434, -0.48040375,\n",
       "        -0.47748976, -0.47741304, -0.49023224, -0.48278847, -0.47704781,\n",
       "        -0.47469606, -0.47296997, -0.47376336, -0.48614205, -0.47716668,\n",
       "        -0.4751953 , -0.4715004 , -0.46988728, -0.47189593]),\n",
       " 'split3_test_score': array([-0.59369149, -0.58972875, -0.58848374, -0.58693834, -0.58570282,\n",
       "        -0.58562051, -0.59031945, -0.58921947, -0.58637274, -0.58624833,\n",
       "        -0.58461741, -0.58497715, -0.59225597, -0.59020066, -0.58852915,\n",
       "        -0.58703774, -0.5861518 , -0.58449302, -0.59066802, -0.58910283,\n",
       "        -0.5875123 , -0.5869421 , -0.58570452, -0.5846837 ]),\n",
       " 'split3_train_score': array([-0.49401399, -0.48840284, -0.4840281 , -0.47856731, -0.47788544,\n",
       "        -0.47909501, -0.49004958, -0.48386234, -0.47995665, -0.47632335,\n",
       "        -0.47496913, -0.47333065, -0.48671411, -0.47968631, -0.47601106,\n",
       "        -0.47467874, -0.47342059, -0.47436463, -0.48348962, -0.4793828 ,\n",
       "        -0.473311  , -0.47194515, -0.47034061, -0.46941161]),\n",
       " 'split4_test_score': array([-0.59714052, -0.59200058, -0.5894247 , -0.59008454, -0.58773655,\n",
       "        -0.58652977, -0.59547249, -0.59238705, -0.58884534, -0.58856526,\n",
       "        -0.58738276, -0.58749661, -0.59390793, -0.59264956, -0.58998572,\n",
       "        -0.58828993, -0.58727903, -0.58724483, -0.59238038, -0.59143823,\n",
       "        -0.5902002 , -0.58701179, -0.58793075, -0.58827933]),\n",
       " 'split4_train_score': array([-0.4949416 , -0.48794714, -0.48273834, -0.48060028, -0.4766671 ,\n",
       "        -0.47839986, -0.49060211, -0.48497427, -0.48055768, -0.4766407 ,\n",
       "        -0.47547165, -0.47483132, -0.48777757, -0.48083395, -0.47651712,\n",
       "        -0.47265715, -0.47113802, -0.47246039, -0.4833055 , -0.47872381,\n",
       "        -0.47496817, -0.47070926, -0.47009399, -0.47220647]),\n",
       " 'std_fit_time': array([ 1.31683234,  5.7695629 ,  4.50265001,  5.09448388,  2.26842308,\n",
       "         1.45064564,  2.77896545,  0.64586693,  3.28830184, 10.87067604,\n",
       "         4.14826816, 15.29321574,  2.76072011,  3.74634905,  3.46240168,\n",
       "         1.82174906, 14.10304062, 28.00039388, 22.27864625, 37.71110146,\n",
       "        31.20316796, 26.50415742, 36.05807382, 41.20141685]),\n",
       " 'std_score_time': array([0.09528561, 0.04055691, 0.05792413, 0.04456338, 0.02493845,\n",
       "        0.06034001, 0.03572433, 0.07760695, 0.05302963, 0.05953607,\n",
       "        0.04054847, 0.01430205, 0.01739865, 0.06868618, 0.0079333 ,\n",
       "        0.04170452, 0.10208081, 0.09201358, 0.10345412, 0.11571414,\n",
       "        0.11198857, 0.09359081, 0.06477943, 0.07375439]),\n",
       " 'std_test_score': array([0.00445364, 0.003831  , 0.00302024, 0.00406195, 0.00360273,\n",
       "        0.00334152, 0.00321023, 0.00391557, 0.00288432, 0.00316565,\n",
       "        0.00351342, 0.00336869, 0.0035455 , 0.00355503, 0.00357566,\n",
       "        0.00368794, 0.0033243 , 0.00338231, 0.00246849, 0.00351467,\n",
       "        0.00373151, 0.00358317, 0.00370245, 0.00338951]),\n",
       " 'std_train_score': array([0.00133937, 0.00096903, 0.00135151, 0.00129587, 0.00088275,\n",
       "        0.00042647, 0.00119957, 0.00109076, 0.00072199, 0.00160158,\n",
       "        0.00086311, 0.00147565, 0.00130088, 0.00143601, 0.00138981,\n",
       "        0.00102507, 0.00095956, 0.00104846, 0.00224271, 0.00152121,\n",
       "        0.00138095, 0.00121418, 0.00116544, 0.00137981])}"
      ]
     },
     "execution_count": 8,
     "metadata": {},
     "output_type": "execute_result"
    }
   ],
   "source": [
    "gsearch.cv_results_"
   ]
  },
  {
   "cell_type": "code",
   "execution_count": 9,
   "metadata": {
    "scrolled": true
   },
   "outputs": [
    {
     "name": "stderr",
     "output_type": "stream",
     "text": [
      "C:\\ProgramData\\Anaconda3\\lib\\site-packages\\sklearn\\utils\\deprecation.py:122: FutureWarning: You are accessing a training score ('mean_train_score'), which will not be available by default any more in 0.21. If you need training scores, please set return_train_score=True\n",
      "  warnings.warn(*warn_args, **warn_kwargs)\n",
      "C:\\ProgramData\\Anaconda3\\lib\\site-packages\\sklearn\\utils\\deprecation.py:122: FutureWarning: You are accessing a training score ('std_train_score'), which will not be available by default any more in 0.21. If you need training scores, please set return_train_score=True\n",
      "  warnings.warn(*warn_args, **warn_kwargs)\n",
      "C:\\ProgramData\\Anaconda3\\lib\\site-packages\\sklearn\\utils\\deprecation.py:122: FutureWarning: You are accessing a training score ('split0_train_score'), which will not be available by default any more in 0.21. If you need training scores, please set return_train_score=True\n",
      "  warnings.warn(*warn_args, **warn_kwargs)\n",
      "C:\\ProgramData\\Anaconda3\\lib\\site-packages\\sklearn\\utils\\deprecation.py:122: FutureWarning: You are accessing a training score ('split1_train_score'), which will not be available by default any more in 0.21. If you need training scores, please set return_train_score=True\n",
      "  warnings.warn(*warn_args, **warn_kwargs)\n",
      "C:\\ProgramData\\Anaconda3\\lib\\site-packages\\sklearn\\utils\\deprecation.py:122: FutureWarning: You are accessing a training score ('split2_train_score'), which will not be available by default any more in 0.21. If you need training scores, please set return_train_score=True\n",
      "  warnings.warn(*warn_args, **warn_kwargs)\n"
     ]
    },
    {
     "name": "stdout",
     "output_type": "stream",
     "text": [
      "Best: -0.582215 using {'colsample_bytree': 0.8, 'subsample': 0.8}\n"
     ]
    },
    {
     "name": "stderr",
     "output_type": "stream",
     "text": [
      "C:\\ProgramData\\Anaconda3\\lib\\site-packages\\sklearn\\utils\\deprecation.py:122: FutureWarning: You are accessing a training score ('split3_train_score'), which will not be available by default any more in 0.21. If you need training scores, please set return_train_score=True\n",
      "  warnings.warn(*warn_args, **warn_kwargs)\n",
      "C:\\ProgramData\\Anaconda3\\lib\\site-packages\\sklearn\\utils\\deprecation.py:122: FutureWarning: You are accessing a training score ('split4_train_score'), which will not be available by default any more in 0.21. If you need training scores, please set return_train_score=True\n",
      "  warnings.warn(*warn_args, **warn_kwargs)\n"
     ]
    },
    {
     "data": {
      "image/png": "[encoded data removed]",
      "text/plain": [
       "<matplotlib.figure.Figure at 0x1efd1312278>"
      ]
     },
     "metadata": {},
     "output_type": "display_data"
    }
   ],
   "source": [
    "# summarize results\n",
    "print(\"Best: %f using %s\" % (gsearch.best_score_, gsearch.best_params_))\n",
    "test_means = gsearch.cv_results_[ 'mean_test_score' ]\n",
    "test_stds = gsearch.cv_results_[ 'std_test_score' ]\n",
    "train_means = gsearch.cv_results_[ 'mean_train_score' ]\n",
    "train_stds = gsearch.cv_results_[ 'std_train_score' ]\n",
    "\n",
    "pd.DataFrame(gsearch.cv_results_).to_csv('my_preds_subsampleh_colsample_bytree_1.csv')\n",
    "\n",
    "# plot results\n",
    "test_scores = np.array(test_means).reshape(len(colsample_bytree), len(subsample))\n",
    "train_scores = np.array(train_means).reshape(len(colsample_bytree), len(subsample))\n",
    "\n",
    "for i, value in enumerate(colsample_bytree):\n",
    "    pyplot.plot(subsample, -test_scores[i], label= 'test_colsample_bytree:'   + str(value))\n",
    "#for i, value in enumerate(min_child_weight):\n",
    "#    pyplot.plot(max_depth, train_scores[i], label= 'train_min_child_weight:'   + str(value))\n",
    "    \n",
    "pyplot.legend()\n",
    "pyplot.xlabel( 'subsample' )                                                                                                      \n",
    "pyplot.ylabel( 'Log Loss' )\n",
    "pyplot.savefig( 'subsample_vs_colsample_bytree1.png' )"
   ]
  }
 ],
 "metadata": {
  "kernelspec": {
   "display_name": "Python 3",
   "language": "python",
   "name": "python3"
  },
  "language_info": {
   "codemirror_mode": {
    "name": "ipython",
    "version": 3
   },
   "file_extension": ".py",
   "mimetype": "text/x-python",
   "name": "python",
   "nbconvert_exporter": "python",
   "pygments_lexer": "ipython3",
   "version": "3.6.3"
  }
 },
 "nbformat": 4,
 "nbformat_minor": 2
}
