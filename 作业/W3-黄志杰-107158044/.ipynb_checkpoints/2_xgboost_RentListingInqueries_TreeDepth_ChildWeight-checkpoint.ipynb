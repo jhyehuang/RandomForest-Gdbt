{
 "cells": [
  {
   "cell_type": "markdown",
   "metadata": {},
   "source": [
    "# XGBoost Parameter Tuning for Rent Listing Inqueries"
   ]
  },
  {
   "cell_type": "markdown",
   "metadata": {},
   "source": [
    "# 第二步：调整树的参数：max_depth & min_child_weight\n",
    "(粗调，参数的步长为2；下一步是在粗调最佳参数周围，将步长降为1，进行精细调整)"
   ]
  },
  {
   "cell_type": "markdown",
   "metadata": {},
   "source": [
    "首先 import 必要的模块"
   ]
  },
  {
   "cell_type": "code",
   "execution_count": 1,
   "metadata": {
    "collapsed": true
   },
   "outputs": [],
   "source": [
    "from xgboost import XGBClassifier\n",
    "import xgboost as xgb\n",
    "\n",
    "import pandas as pd \n",
    "import numpy as np\n",
    "\n",
    "from sklearn.model_selection import GridSearchCV\n",
    "from sklearn.model_selection import StratifiedKFold,train_test_split\n",
    "\n",
    "from sklearn.metrics import log_loss\n",
    "\n",
    "from matplotlib import pyplot\n",
    "import seaborn as sns\n",
    "%matplotlib inline"
   ]
  },
  {
   "cell_type": "markdown",
   "metadata": {},
   "source": [
    "## 读取数据"
   ]
  },
  {
   "cell_type": "code",
   "execution_count": 2,
   "metadata": {
    "collapsed": true,
    "scrolled": true
   },
   "outputs": [],
   "source": [
    "# path to where the data lies\n",
    "dpath = './data/'\n",
    "train = pd.read_csv(dpath +\"RentListingInquries_FE_train.csv\")\n",
    "test = pd.read_csv(dpath +\"RentListingInquries_FE_test.csv\")"
   ]
  },
  {
   "cell_type": "markdown",
   "metadata": {},
   "source": [
    "每类样本分布不是很均匀，所以交叉验证时也考虑各类样本按比例抽取"
   ]
  },
  {
   "cell_type": "code",
   "execution_count": 3,
   "metadata": {
    "collapsed": true
   },
   "outputs": [],
   "source": [
    "Y = train['interest_level']\n",
    "X = train.drop([\"interest_level\"], axis=1)\n",
    "X = np.array(X)"
   ]
  },
  {
   "cell_type": "code",
   "execution_count": 4,
   "metadata": {
    "collapsed": true
   },
   "outputs": [],
   "source": [
    "#X_train, X_test, y_train, y_test = train_test_split(X, Y, test_size=0.8, random_state=0)"
   ]
  },
  {
   "cell_type": "code",
   "execution_count": 5,
   "metadata": {
    "collapsed": true
   },
   "outputs": [],
   "source": [
    "X_train=X\n",
    "y_train=Y"
   ]
  },
  {
   "cell_type": "markdown",
   "metadata": {},
   "source": [
    "各类样本不均衡，交叉验证是采用StratifiedKFold，在每折采样时各类样本按比例采样"
   ]
  },
  {
   "cell_type": "code",
   "execution_count": 6,
   "metadata": {
    "collapsed": true
   },
   "outputs": [],
   "source": [
    "# prepare cross validation\n",
    "kfold = StratifiedKFold(n_splits=5, shuffle=True, random_state=3)"
   ]
  },
  {
   "cell_type": "markdown",
   "metadata": {},
   "source": [
    "第一轮参数调整得到的n_estimators最优值（231），其余参数继续默认值"
   ]
  },
  {
   "cell_type": "markdown",
   "metadata": {},
   "source": [
    "用交叉验证评价模型性能时，用scoring参数定义评价指标。评价指标是越高越好，因此用一些损失函数当评价指标时，需要再加负号，如neg_log_loss，neg_mean_squared_error 详见sklearn文档：http://scikit-learn.org/stable/modules/model_evaluation.html#log-loss"
   ]
  },
  {
   "cell_type": "code",
   "execution_count": 7,
   "metadata": {
    "scrolled": true
   },
   "outputs": [
    {
     "data": {
      "text/plain": [
       "{'max_depth': [4, 5, 6, 7, 8], 'min_child_weight': [4, 5, 6, 7, 8]}"
      ]
     },
     "execution_count": 7,
     "metadata": {},
     "output_type": "execute_result"
    }
   ],
   "source": [
    "#max_depth 建议3-10， min_child_weight=1／sqrt(ratio_rare_event) =5.5\n",
    "max_depth = [4,5,6,7,8]\n",
    "min_child_weight = [4,5,6,7,8]\n",
    "param_test = dict(max_depth=max_depth, min_child_weight=min_child_weight)\n",
    "param_test"
   ]
  },
  {
   "cell_type": "code",
   "execution_count": 8,
   "metadata": {
    "scrolled": true
   },
   "outputs": [
    {
     "name": "stderr",
     "output_type": "stream",
     "text": [
      "C:\\ProgramData\\Anaconda3\\lib\\site-packages\\sklearn\\model_selection\\_search.py:761: DeprecationWarning: The grid_scores_ attribute was deprecated in version 0.18 in favor of the more elaborate cv_results_ attribute. The grid_scores_ attribute will not be available from 0.20\n",
      "  DeprecationWarning)\n"
     ]
    },
    {
     "data": {
      "text/plain": [
       "([mean: -0.59398, std: 0.00354, params: {'max_depth': 4, 'min_child_weight': 4},\n",
       "  mean: -0.59406, std: 0.00338, params: {'max_depth': 4, 'min_child_weight': 5},\n",
       "  mean: -0.59420, std: 0.00340, params: {'max_depth': 4, 'min_child_weight': 6},\n",
       "  mean: -0.59417, std: 0.00317, params: {'max_depth': 4, 'min_child_weight': 7},\n",
       "  mean: -0.59448, std: 0.00395, params: {'max_depth': 4, 'min_child_weight': 8},\n",
       "  mean: -0.59081, std: 0.00315, params: {'max_depth': 5, 'min_child_weight': 4},\n",
       "  mean: -0.59061, std: 0.00344, params: {'max_depth': 5, 'min_child_weight': 5},\n",
       "  mean: -0.59066, std: 0.00343, params: {'max_depth': 5, 'min_child_weight': 6},\n",
       "  mean: -0.59056, std: 0.00387, params: {'max_depth': 5, 'min_child_weight': 7},\n",
       "  mean: -0.59104, std: 0.00423, params: {'max_depth': 5, 'min_child_weight': 8},\n",
       "  mean: -0.58993, std: 0.00333, params: {'max_depth': 6, 'min_child_weight': 4},\n",
       "  mean: -0.58971, std: 0.00381, params: {'max_depth': 6, 'min_child_weight': 5},\n",
       "  mean: -0.58924, std: 0.00308, params: {'max_depth': 6, 'min_child_weight': 6},\n",
       "  mean: -0.58918, std: 0.00355, params: {'max_depth': 6, 'min_child_weight': 7},\n",
       "  mean: -0.58964, std: 0.00332, params: {'max_depth': 6, 'min_child_weight': 8},\n",
       "  mean: -0.58931, std: 0.00359, params: {'max_depth': 7, 'min_child_weight': 4},\n",
       "  mean: -0.59004, std: 0.00381, params: {'max_depth': 7, 'min_child_weight': 5},\n",
       "  mean: -0.59017, std: 0.00387, params: {'max_depth': 7, 'min_child_weight': 6},\n",
       "  mean: -0.59045, std: 0.00359, params: {'max_depth': 7, 'min_child_weight': 7},\n",
       "  mean: -0.59072, std: 0.00436, params: {'max_depth': 7, 'min_child_weight': 8},\n",
       "  mean: -0.59397, std: 0.00357, params: {'max_depth': 8, 'min_child_weight': 4},\n",
       "  mean: -0.59444, std: 0.00292, params: {'max_depth': 8, 'min_child_weight': 5},\n",
       "  mean: -0.59321, std: 0.00425, params: {'max_depth': 8, 'min_child_weight': 6},\n",
       "  mean: -0.59312, std: 0.00412, params: {'max_depth': 8, 'min_child_weight': 7},\n",
       "  mean: -0.59290, std: 0.00349, params: {'max_depth': 8, 'min_child_weight': 8}],\n",
       " {'max_depth': 6, 'min_child_weight': 7},\n",
       " -0.5891755428605883)"
      ]
     },
     "execution_count": 8,
     "metadata": {},
     "output_type": "execute_result"
    }
   ],
   "source": [
    "xgb = XGBClassifier(\n",
    "        learning_rate =0.1,\n",
    "        n_estimators=231,  #第一轮参数调整得到的n_estimators最优值\n",
    "        max_depth=5,\n",
    "        min_child_weight=1,\n",
    "        gamma=0,\n",
    "        subsample=0.3,\n",
    "        colsample_bytree=0.8,\n",
    "        colsample_bylevel = 0.7,\n",
    "        objective= 'multi:softprob',\n",
    "        seed=3)\n",
    "\n",
    "\n",
    "gsearch = GridSearchCV(xgb, param_grid = param_test, scoring='neg_log_loss',n_jobs=-1, cv=kfold)\n",
    "gsearch.fit(X_train , y_train)\n",
    "\n",
    "gsearch.grid_scores_, gsearch.best_params_,     gsearch.best_score_"
   ]
  },
  {
   "cell_type": "code",
   "execution_count": 9,
   "metadata": {
    "scrolled": true
   },
   "outputs": [
    {
     "name": "stderr",
     "output_type": "stream",
     "text": [
      "C:\\ProgramData\\Anaconda3\\lib\\site-packages\\sklearn\\utils\\deprecation.py:122: FutureWarning: You are accessing a training score ('mean_train_score'), which will not be available by default any more in 0.21. If you need training scores, please set return_train_score=True\n",
      "  warnings.warn(*warn_args, **warn_kwargs)\n",
      "C:\\ProgramData\\Anaconda3\\lib\\site-packages\\sklearn\\utils\\deprecation.py:122: FutureWarning: You are accessing a training score ('split0_train_score'), which will not be available by default any more in 0.21. If you need training scores, please set return_train_score=True\n",
      "  warnings.warn(*warn_args, **warn_kwargs)\n",
      "C:\\ProgramData\\Anaconda3\\lib\\site-packages\\sklearn\\utils\\deprecation.py:122: FutureWarning: You are accessing a training score ('split1_train_score'), which will not be available by default any more in 0.21. If you need training scores, please set return_train_score=True\n",
      "  warnings.warn(*warn_args, **warn_kwargs)\n",
      "C:\\ProgramData\\Anaconda3\\lib\\site-packages\\sklearn\\utils\\deprecation.py:122: FutureWarning: You are accessing a training score ('split2_train_score'), which will not be available by default any more in 0.21. If you need training scores, please set return_train_score=True\n",
      "  warnings.warn(*warn_args, **warn_kwargs)\n",
      "C:\\ProgramData\\Anaconda3\\lib\\site-packages\\sklearn\\utils\\deprecation.py:122: FutureWarning: You are accessing a training score ('split3_train_score'), which will not be available by default any more in 0.21. If you need training scores, please set return_train_score=True\n",
      "  warnings.warn(*warn_args, **warn_kwargs)\n",
      "C:\\ProgramData\\Anaconda3\\lib\\site-packages\\sklearn\\utils\\deprecation.py:122: FutureWarning: You are accessing a training score ('split4_train_score'), which will not be available by default any more in 0.21. If you need training scores, please set return_train_score=True\n",
      "  warnings.warn(*warn_args, **warn_kwargs)\n",
      "C:\\ProgramData\\Anaconda3\\lib\\site-packages\\sklearn\\utils\\deprecation.py:122: FutureWarning: You are accessing a training score ('std_train_score'), which will not be available by default any more in 0.21. If you need training scores, please set return_train_score=True\n",
      "  warnings.warn(*warn_args, **warn_kwargs)\n"
     ]
    },
    {
     "data": {
      "text/plain": [
       "{'mean_fit_time': array([449.04684653, 451.98111539, 453.70241814, 437.43559976,\n",
       "        435.24887252, 525.73881211, 519.96915975, 513.21573329,\n",
       "        481.75560055, 488.48986325, 574.5626369 , 584.53310719,\n",
       "        660.71569943, 649.01598697, 628.70998425, 622.50680614,\n",
       "        638.51578026, 655.76787124, 639.38404016, 622.67328634,\n",
       "        720.07816906, 711.91940131, 702.91546588, 690.77545543,\n",
       "        608.39833803]),\n",
       " 'mean_score_time': array([1.20279727, 1.19598103, 1.15065999, 1.00056095, 1.04748554,\n",
       "        1.37184806, 1.4667007 , 1.28882728, 1.36452894, 1.4047358 ,\n",
       "        1.93715134, 1.95891004, 2.4659616 , 2.08043189, 1.54711418,\n",
       "        1.84901705, 2.26743035, 2.19654088, 1.89343491, 1.83528056,\n",
       "        2.49122472, 2.16004448, 2.13347368, 2.04012532, 1.65293074]),\n",
       " 'mean_test_score': array([-0.59398108, -0.5940582 , -0.59419883, -0.59417488, -0.5944835 ,\n",
       "        -0.59081094, -0.59060523, -0.59066137, -0.59055764, -0.59103781,\n",
       "        -0.58993172, -0.58970689, -0.58924005, -0.58917554, -0.58963937,\n",
       "        -0.58931071, -0.59004395, -0.59016778, -0.59044746, -0.59071763,\n",
       "        -0.59396663, -0.59443874, -0.59320934, -0.59311965, -0.5929001 ]),\n",
       " 'mean_train_score': array([-0.55144085, -0.55208534, -0.55269398, -0.55313596, -0.5538815 ,\n",
       "        -0.51817482, -0.52000624, -0.52137734, -0.52285522, -0.5238576 ,\n",
       "        -0.47982387, -0.48322418, -0.4855575 , -0.48828025, -0.49060272,\n",
       "        -0.43571138, -0.44127108, -0.44577415, -0.45091593, -0.45439197,\n",
       "        -0.38943173, -0.39850161, -0.40692105, -0.41331691, -0.41884861]),\n",
       " 'param_max_depth': masked_array(data=[4, 4, 4, 4, 4, 5, 5, 5, 5, 5, 6, 6, 6, 6, 6, 7, 7, 7,\n",
       "                    7, 7, 8, 8, 8, 8, 8],\n",
       "              mask=[False, False, False, False, False, False, False, False,\n",
       "                    False, False, False, False, False, False, False, False,\n",
       "                    False, False, False, False, False, False, False, False,\n",
       "                    False],\n",
       "        fill_value='?',\n",
       "             dtype=object),\n",
       " 'param_min_child_weight': masked_array(data=[4, 5, 6, 7, 8, 4, 5, 6, 7, 8, 4, 5, 6, 7, 8, 4, 5, 6,\n",
       "                    7, 8, 4, 5, 6, 7, 8],\n",
       "              mask=[False, False, False, False, False, False, False, False,\n",
       "                    False, False, False, False, False, False, False, False,\n",
       "                    False, False, False, False, False, False, False, False,\n",
       "                    False],\n",
       "        fill_value='?',\n",
       "             dtype=object),\n",
       " 'params': [{'max_depth': 4, 'min_child_weight': 4},\n",
       "  {'max_depth': 4, 'min_child_weight': 5},\n",
       "  {'max_depth': 4, 'min_child_weight': 6},\n",
       "  {'max_depth': 4, 'min_child_weight': 7},\n",
       "  {'max_depth': 4, 'min_child_weight': 8},\n",
       "  {'max_depth': 5, 'min_child_weight': 4},\n",
       "  {'max_depth': 5, 'min_child_weight': 5},\n",
       "  {'max_depth': 5, 'min_child_weight': 6},\n",
       "  {'max_depth': 5, 'min_child_weight': 7},\n",
       "  {'max_depth': 5, 'min_child_weight': 8},\n",
       "  {'max_depth': 6, 'min_child_weight': 4},\n",
       "  {'max_depth': 6, 'min_child_weight': 5},\n",
       "  {'max_depth': 6, 'min_child_weight': 6},\n",
       "  {'max_depth': 6, 'min_child_weight': 7},\n",
       "  {'max_depth': 6, 'min_child_weight': 8},\n",
       "  {'max_depth': 7, 'min_child_weight': 4},\n",
       "  {'max_depth': 7, 'min_child_weight': 5},\n",
       "  {'max_depth': 7, 'min_child_weight': 6},\n",
       "  {'max_depth': 7, 'min_child_weight': 7},\n",
       "  {'max_depth': 7, 'min_child_weight': 8},\n",
       "  {'max_depth': 8, 'min_child_weight': 4},\n",
       "  {'max_depth': 8, 'min_child_weight': 5},\n",
       "  {'max_depth': 8, 'min_child_weight': 6},\n",
       "  {'max_depth': 8, 'min_child_weight': 7},\n",
       "  {'max_depth': 8, 'min_child_weight': 8}],\n",
       " 'rank_test_score': array([20, 21, 23, 22, 25, 14, 11, 12, 10, 15,  6,  5,  2,  1,  4,  3,  7,\n",
       "         8,  9, 13, 19, 24, 18, 17, 16]),\n",
       " 'split0_test_score': array([-0.58908273, -0.5899621 , -0.58944453, -0.59009732, -0.58927452,\n",
       "        -0.58555307, -0.58469222, -0.58487938, -0.58377671, -0.58417608,\n",
       "        -0.58533814, -0.58402606, -0.58458037, -0.58395419, -0.58405566,\n",
       "        -0.5829434 , -0.58373509, -0.58464934, -0.58500795, -0.58549789,\n",
       "        -0.58824983, -0.59003666, -0.58865969, -0.58742927, -0.5874375 ]),\n",
       " 'split0_train_score': array([-0.55287179, -0.55380275, -0.55445922, -0.5542171 , -0.55552639,\n",
       "        -0.52051221, -0.52127609, -0.52330739, -0.52393819, -0.52499523,\n",
       "        -0.48046989, -0.4847596 , -0.48694039, -0.48932325, -0.49232224,\n",
       "        -0.4375367 , -0.44356401, -0.44964866, -0.45380682, -0.45563514,\n",
       "        -0.39014346, -0.39776695, -0.40593118, -0.41320326, -0.41778082]),\n",
       " 'split1_test_score': array([-0.59204848, -0.59205423, -0.59219931, -0.59289549, -0.59179067,\n",
       "        -0.58954054, -0.5900463 , -0.58953927, -0.58936453, -0.58840385,\n",
       "        -0.58915531, -0.588682  , -0.58780839, -0.58745944, -0.58965289,\n",
       "        -0.58868216, -0.58869294, -0.58954024, -0.58849728, -0.58789601,\n",
       "        -0.59251335, -0.59208437, -0.59027014, -0.58941231, -0.59091592]),\n",
       " 'split1_train_score': array([-0.55140477, -0.55217468, -0.55283259, -0.55367228, -0.55415509,\n",
       "        -0.51711169, -0.51979513, -0.52116049, -0.52332514, -0.52284106,\n",
       "        -0.47948632, -0.48306294, -0.48506094, -0.48735406, -0.49008108,\n",
       "        -0.43469541, -0.44067748, -0.44429603, -0.45026986, -0.45344484,\n",
       "        -0.38975562, -0.3983534 , -0.40809343, -0.41294201, -0.42043369]),\n",
       " 'split2_test_score': array([-0.59269537, -0.59218504, -0.5931925 , -0.59209969, -0.59325306,\n",
       "        -0.59111152, -0.59019866, -0.5906455 , -0.5912057 , -0.59237935,\n",
       "        -0.58874008, -0.58833778, -0.58942865, -0.58830162, -0.58912126,\n",
       "        -0.59002011, -0.59101802, -0.58945268, -0.59107699, -0.58959543,\n",
       "        -0.59364775, -0.59540478, -0.59150639, -0.59505198, -0.59438181]),\n",
       " 'split2_train_score': array([-0.55116829, -0.55211933, -0.55273206, -0.55321892, -0.55356796,\n",
       "        -0.51876219, -0.52109665, -0.52208339, -0.52366669, -0.52450967,\n",
       "        -0.47936697, -0.48373126, -0.4869861 , -0.49023224, -0.49175323,\n",
       "        -0.4365418 , -0.44089128, -0.44496737, -0.45095033, -0.45553926,\n",
       "        -0.39143793, -0.40048182, -0.40894468, -0.4146817 , -0.41988177]),\n",
       " 'split3_test_score': array([-0.59764554, -0.59879442, -0.59794892, -0.59820939, -0.5993739 ,\n",
       "        -0.5932383 , -0.59415304, -0.59440207, -0.59399943, -0.59456889,\n",
       "        -0.59088376, -0.59217868, -0.59042043, -0.59225597, -0.59107243,\n",
       "        -0.59120942, -0.59144824, -0.59042694, -0.59183762, -0.59240871,\n",
       "        -0.59710891, -0.59752042, -0.59500765, -0.59499069, -0.59399653]),\n",
       " 'split3_train_score': array([-0.55094075, -0.55136516, -0.55203453, -0.55235912, -0.55346037,\n",
       "        -0.51792094, -0.51901001, -0.52124418, -0.52224469, -0.52366399,\n",
       "        -0.47930865, -0.4812778 , -0.48432654, -0.48671411, -0.48968352,\n",
       "        -0.43474326, -0.44019248, -0.44425706, -0.44992746, -0.45365884,\n",
       "        -0.38880913, -0.39856494, -0.40599307, -0.41259238, -0.41805666]),\n",
       " 'split4_test_score': array([-0.59843465, -0.59729622, -0.59821011, -0.59757354, -0.59872665,\n",
       "        -0.59461243, -0.59393696, -0.5938416 , -0.59444301, -0.59566227,\n",
       "        -0.59554302, -0.59531166, -0.59396386, -0.59390793, -0.59429603,\n",
       "        -0.59369979, -0.59532707, -0.5967717 , -0.59581907, -0.59819241,\n",
       "        -0.59831465, -0.59714828, -0.60060508, -0.59871567, -0.59777024]),\n",
       " 'split4_train_score': array([-0.55081867, -0.55096479, -0.55141153, -0.55221236, -0.5526977 ,\n",
       "        -0.51656708, -0.5188533 , -0.51909124, -0.52110142, -0.52327805,\n",
       "        -0.48048754, -0.48328932, -0.48447354, -0.48777757, -0.48917352,\n",
       "        -0.43503972, -0.44103019, -0.44570162, -0.44962516, -0.45368176,\n",
       "        -0.38701251, -0.39734094, -0.40564288, -0.41316523, -0.41809013]),\n",
       " 'std_fit_time': array([ 3.28290956,  2.45976566,  2.28373269,  7.44085937,  7.29068103,\n",
       "         1.53307992,  5.87227593,  1.41734823,  0.80937711,  8.47800964,\n",
       "        17.26372931, 55.32452004, 63.4980455 , 64.17016022, 67.35452848,\n",
       "        10.06049233,  5.29668197, 10.28000758,  4.72490128,  5.80856378,\n",
       "         8.46079019,  6.4328615 ,  5.25288166,  2.04034461, 64.4800626 ]),\n",
       " 'std_score_time': array([0.05779056, 0.05771839, 0.09166333, 0.08208785, 0.08299485,\n",
       "        0.12493285, 0.21844523, 0.03976595, 0.05524631, 0.09630929,\n",
       "        0.22376529, 0.23836234, 0.30759013, 0.35770005, 0.0313805 ,\n",
       "        0.0303767 , 0.44148009, 0.2941233 , 0.04287514, 0.03630085,\n",
       "        0.12823855, 0.08070175, 0.06976044, 0.05104595, 0.09229983]),\n",
       " 'std_test_score': array([0.00353955, 0.00338288, 0.00339901, 0.00317482, 0.00394508,\n",
       "        0.00315251, 0.00343886, 0.00342923, 0.00386695, 0.00423495,\n",
       "        0.00333199, 0.00381352, 0.00308226, 0.0035455 , 0.00332209,\n",
       "        0.00358631, 0.00380671, 0.00387372, 0.0035936 , 0.0043632 ,\n",
       "        0.00356855, 0.0029221 , 0.00424636, 0.00411511, 0.00348968]),\n",
       " 'std_train_score': array([0.00074302, 0.00097293, 0.0010214 , 0.00076419, 0.0009442 ,\n",
       "        0.00138477, 0.00101665, 0.00137946, 0.00104888, 0.00079071,\n",
       "        0.00053776, 0.00113431, 0.00117389, 0.00130088, 0.00121984,\n",
       "        0.00113507, 0.00118115, 0.00200771, 0.00151122, 0.00097987,\n",
       "        0.00147489, 0.00108019, 0.00133748, 0.00071611, 0.00108835])}"
      ]
     },
     "execution_count": 9,
     "metadata": {},
     "output_type": "execute_result"
    }
   ],
   "source": [
    "gsearch.cv_results_"
   ]
  },
  {
   "cell_type": "code",
   "execution_count": 10,
   "metadata": {
    "scrolled": true
   },
   "outputs": [
    {
     "name": "stdout",
     "output_type": "stream",
     "text": [
      "Best: -0.589176 using {'max_depth': 6, 'min_child_weight': 7}\n"
     ]
    },
    {
     "name": "stderr",
     "output_type": "stream",
     "text": [
      "C:\\ProgramData\\Anaconda3\\lib\\site-packages\\sklearn\\utils\\deprecation.py:122: FutureWarning: You are accessing a training score ('mean_train_score'), which will not be available by default any more in 0.21. If you need training scores, please set return_train_score=True\n",
      "  warnings.warn(*warn_args, **warn_kwargs)\n",
      "C:\\ProgramData\\Anaconda3\\lib\\site-packages\\sklearn\\utils\\deprecation.py:122: FutureWarning: You are accessing a training score ('std_train_score'), which will not be available by default any more in 0.21. If you need training scores, please set return_train_score=True\n",
      "  warnings.warn(*warn_args, **warn_kwargs)\n",
      "C:\\ProgramData\\Anaconda3\\lib\\site-packages\\sklearn\\utils\\deprecation.py:122: FutureWarning: You are accessing a training score ('split0_train_score'), which will not be available by default any more in 0.21. If you need training scores, please set return_train_score=True\n",
      "  warnings.warn(*warn_args, **warn_kwargs)\n",
      "C:\\ProgramData\\Anaconda3\\lib\\site-packages\\sklearn\\utils\\deprecation.py:122: FutureWarning: You are accessing a training score ('split1_train_score'), which will not be available by default any more in 0.21. If you need training scores, please set return_train_score=True\n",
      "  warnings.warn(*warn_args, **warn_kwargs)\n",
      "C:\\ProgramData\\Anaconda3\\lib\\site-packages\\sklearn\\utils\\deprecation.py:122: FutureWarning: You are accessing a training score ('split2_train_score'), which will not be available by default any more in 0.21. If you need training scores, please set return_train_score=True\n",
      "  warnings.warn(*warn_args, **warn_kwargs)\n",
      "C:\\ProgramData\\Anaconda3\\lib\\site-packages\\sklearn\\utils\\deprecation.py:122: FutureWarning: You are accessing a training score ('split3_train_score'), which will not be available by default any more in 0.21. If you need training scores, please set return_train_score=True\n",
      "  warnings.warn(*warn_args, **warn_kwargs)\n",
      "C:\\ProgramData\\Anaconda3\\lib\\site-packages\\sklearn\\utils\\deprecation.py:122: FutureWarning: You are accessing a training score ('split4_train_score'), which will not be available by default any more in 0.21. If you need training scores, please set return_train_score=True\n",
      "  warnings.warn(*warn_args, **warn_kwargs)\n"
     ]
    },
    {
     "data": {
      "image/png": "[encoded data removed]",
      "text/plain": [
       "<matplotlib.figure.Figure at 0x264bc0ed550>"
      ]
     },
     "metadata": {},
     "output_type": "display_data"
    }
   ],
   "source": [
    "# summarize results\n",
    "print(\"Best: %f using %s\" % (gsearch.best_score_, gsearch.best_params_))\n",
    "test_means = gsearch.cv_results_[ 'mean_test_score' ]\n",
    "test_stds = gsearch.cv_results_[ 'std_test_score' ]\n",
    "train_means = gsearch.cv_results_[ 'mean_train_score' ]\n",
    "train_stds = gsearch.cv_results_[ 'std_train_score' ]\n",
    "\n",
    "pd.DataFrame(gsearch.cv_results_).to_csv('my_preds_maxdepth_min_child_weights_2.csv')\n",
    "\n",
    "# plot results\n",
    "test_scores = np.array(test_means).reshape(len(min_child_weight), len(max_depth))\n",
    "train_scores = np.array(train_means).reshape(len(min_child_weight), len(max_depth))\n",
    "\n",
    "for i, value in enumerate(min_child_weight):\n",
    "    pyplot.plot(max_depth, test_scores[i], label= 'test_min_child_weight:'   + str(value))\n",
    "#for i, value in enumerate(min_child_weight):\n",
    "#    pyplot.plot(max_depth, train_scores[i], label= 'train_min_child_weight:'   + str(value))\n",
    "    \n",
    "pyplot.legend()\n",
    "pyplot.xlabel( 'max_depth' )                                                                                                      \n",
    "pyplot.ylabel( '- Log Loss' )\n",
    "pyplot.savefig( 'max_depth_vs_min_child_weght2.png' )"
   ]
  },
  {
   "cell_type": "code",
   "execution_count": null,
   "metadata": {
    "collapsed": true
   },
   "outputs": [],
   "source": []
  }
 ],
 "metadata": {
  "kernelspec": {
   "display_name": "Python 3",
   "language": "python",
   "name": "python3"
  },
  "language_info": {
   "codemirror_mode": {
    "name": "ipython",
    "version": 3
   },
   "file_extension": ".py",
   "mimetype": "text/x-python",
   "name": "python",
   "nbconvert_exporter": "python",
   "pygments_lexer": "ipython3",
   "version": "3.6.3"
  }
 },
 "nbformat": 4,
 "nbformat_minor": 2
}
